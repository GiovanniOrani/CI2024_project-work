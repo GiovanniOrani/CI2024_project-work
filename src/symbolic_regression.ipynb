{
 "cells": [
  {
   "cell_type": "markdown",
   "metadata": {},
   "source": [
    "# Imports and utils\n",
    "Here a data class for the problem configurations, just to modify all in a single place\n",
    "\n",
    "Some wrapper function for almost every np unary and binary functions\n",
    "\n",
    "I've divided operators in groups too try different configurations, here there are the best ones, found selecting the operations most used running with all selected"
   ]
  },
  {
   "cell_type": "code",
   "execution_count": 31,
   "metadata": {},
   "outputs": [],
   "source": [
    "import gxgp\n",
    "from gxgp import *\n",
    "import numpy as np  \n",
    "import matplotlib.pyplot as plt\n",
    "from tqdm.auto import tqdm\n",
    "import re\n",
    "import os\n",
    "from dataclasses import dataclass\n",
    "from typing import List, Callable\n",
    "from mpl_toolkits.mplot3d import Axes3D\n",
    "\n",
    "# Fix for NumPy 2.0 compatibility\n",
    "if not hasattr(np, 'alltrue'):\n",
    "    np.alltrue = np.all\n",
    "\n",
    "# Configure PATH to include Graphviz for visualization\n",
    "os.environ['PATH'] += r';C:\\Program Files\\Graphviz\\bin'\n",
    "\n",
    "@dataclass\n",
    "class ProblemConfiguration:\n",
    "    operators: List[Callable]\n",
    "    population: int\n",
    "    newGenerations: int\n",
    "    resize: int\n",
    "    offspringSize: int\n",
    "    individualSize: int\n",
    "    tournamentSize: int\n",
    "    crossoverRate: float\n",
    "    mutationRate: float\n",
    "      \n",
    "\n",
    "#Trigonometric functions\n",
    "def sin(x): return np.sin(x)\n",
    "def cos(x): return np.cos(x)\n",
    "def tan(x): return np.tan(x)\n",
    "def arcsin(x): return np.arcsin(x)\n",
    "def arccos(x): return np.arccos(x)\n",
    "def arctan(x): return np.arctan(x)\n",
    "#Hyperbolic functions\n",
    "def sinh(x): return np.sinh(x)\n",
    "def cosh(x): return np.cosh(x)\n",
    "def tanh(x): return np.tanh(x)\n",
    "def arcsinh(x): return np.arcsinh(x)\n",
    "def arccosh(x): return np.arccosh(x)\n",
    "def arctanh(x): return np.arctanh(x)\n",
    "#Rounding functions\n",
    "def rint(x): return np.rint(x)\n",
    "def floor(x): return np.floor(x)\n",
    "def ceil(x): return np.ceil(x)\n",
    "def trunc(x): return np.trunc(x)\n",
    "#Exponential and logarithmic functions\n",
    "def exp(x): return np.exp(x)\n",
    "def log(x): return np.log(x)\n",
    "# Basic arithmetic operations\n",
    "def add(x, y): return np.add(x, y)\n",
    "def reciprocal(x): return np.reciprocal(x)\n",
    "def positive(x): return np.positive(x)\n",
    "def negative(x): return np.negative(x)\n",
    "def multiply(x, y): return np.multiply(x, y)\n",
    "def divide(x, y): return np.divide(x, y)\n",
    "def power(x, y): return np.power(x,y)\n",
    "def subtract(x, y): return np.subtract(x, y)\n",
    "def mod(x, y): return np.mod(x, y)\n",
    "#Extrema finding functions\n",
    "def maximum(x, y): return np.maximum(x, y)\n",
    "def minimum(x, y): return np.minimum(x, y)\n",
    "#Miscellaneous functions\n",
    "def sqrt(x): return np.sqrt(x)\n",
    "def cbrt(x): return np.cbrt(x)\n",
    "def square(x): return np.square(x)\n",
    "def abs(x): return np.abs(x)\n",
    "def sign(x): return np.sign(x)\n",
    "\n",
    "operators = [sin, cos, tan, arcsin, arccos, arctan,\n",
    "             sinh, cosh, tanh, arcsinh, arccosh, arctanh,\n",
    "             rint, floor, ceil, trunc,\n",
    "             exp,log,\n",
    "             add, reciprocal, positive, negative, multiply, divide, power, subtract, mod,\n",
    "             maximum, minimum,\n",
    "             sqrt, cbrt, square, abs, sign]\n",
    "arith_core = [add, subtract, multiply]\n",
    "trig_basic = [sin, cos]\n",
    "trig_full  = [tan, arcsin, arccos, arctan]\n",
    "hyper      = [sinh, cosh, tanh, arcsinh, arccosh, arctanh]\n",
    "exp_log    = [exp, log]\n",
    "rounding   = [rint, floor, ceil, trunc]\n",
    "extrema    = [maximum, minimum]\n",
    "roots_abs  = [sqrt, cbrt, square, abs]\n",
    "sign_ops   = [positive, negative, sign]\n",
    "div_pow_mod= [divide, power, mod, reciprocal]\n",
    "\n",
    "prob0_subset = arith_core + trig_basic\n",
    "\n",
    "prob1_subset = arith_core + trig_basic\n",
    "\n",
    "prob2_subset = arith_core + trig_basic + [sign]\n",
    "\n",
    "prob3_subset = arith_core + trig_basic + trig_full + hyper + roots_abs + div_pow_mod + rounding\n",
    "\n",
    "prob4_subset = arith_core + trig_basic + div_pow_mod\n",
    "\n",
    "prob5_subset = arith_core + trig_basic \n",
    "\n",
    "prob6_subset = arith_core + trig_basic\n",
    "\n",
    "prob7_subset = arith_core + trig_basic + div_pow_mod + exp_log + rounding + sign_ops + roots_abs + hyper + trig_full\n",
    "\n",
    "prob8_subset = arith_core + trig_basic + div_pow_mod + exp_log + rounding + sign_ops + roots_abs + hyper + trig_full"
   ]
  },
  {
   "cell_type": "markdown",
   "metadata": {},
   "source": [
    "Wrapper map to translate the wrapper names into np functions in the final expression"
   ]
  },
  {
   "cell_type": "code",
   "execution_count": 32,
   "metadata": {},
   "outputs": [],
   "source": [
    "WRAPPER_MAP = {\n",
    "    # Trigonometric\n",
    "    \"sin\": \"np.sin\", \"cos\": \"np.cos\", \"tan\": \"np.tan\",\n",
    "    \"arcsin\": \"np.arcsin\", \"arccos\": \"np.arccos\", \"arctan\": \"np.arctan\",\n",
    "    # Hyperbolic\n",
    "    \"sinh\": \"np.sinh\", \"cosh\": \"np.cosh\", \"tanh\": \"np.tanh\",\n",
    "    \"arcsinh\": \"np.arcsinh\", \"arccosh\": \"np.arccosh\", \"arctanh\": \"np.arctanh\",\n",
    "    # Rounding\n",
    "    \"rint\": \"np.rint\", \"floor\": \"np.floor\", \"ceil\": \"np.ceil\", \"trunc\": \"np.trunc\",\n",
    "    # Exp/log\n",
    "    \"exp\": \"np.exp\", \"log\": \"np.log\",\n",
    "    # Arithmetic\n",
    "    \"add\": \"np.add\", \"reciprocal\": \"np.reciprocal\", \"positive\": \"np.positive\",\n",
    "    \"negative\": \"np.negative\", \"multiply\": \"np.multiply\", \"divide\": \"np.divide\",\n",
    "    \"power\": \"np.power\", \"subtract\": \"np.subtract\", \"mod\": \"np.mod\",\n",
    "    # Extrema\n",
    "    \"maximum\": \"np.maximum\", \"minimum\": \"np.minimum\",\n",
    "    # Misc\n",
    "    \"sqrt\": \"np.sqrt\", \"cbrt\": \"np.cbrt\", \"square\": \"np.square\",\n",
    "    \"abs\": \"np.abs\", \"sign\": \"np.sign\"\n",
    "}\n",
    "\n",
    "def translate_expression(expr: str) -> str:\n",
    "    expr = re.sub(r'([a-z])(\\d+)', r'\\1[\\2]', expr)\n",
    "\n",
    "    for k, v in WRAPPER_MAP.items():\n",
    "        expr = re.sub(rf'\\b{k}\\b', v, expr)\n",
    "\n",
    "    return expr"
   ]
  },
  {
   "cell_type": "markdown",
   "metadata": {},
   "source": [
    "This config values are the default ones, some tweeks are needed to better perform with some problems, but this default values are still valid choices"
   ]
  },
  {
   "cell_type": "code",
   "execution_count": 33,
   "metadata": {},
   "outputs": [],
   "source": [
    "selected = 1\n",
    "\n",
    "problem_configs = {\n",
    "    1: ProblemConfiguration(prob1_subset, 100,  10000, 1, 50,  10,  10, 0.5, 0.5),\n",
    "    2: ProblemConfiguration(prob2_subset, 100,  10000, 1, 50,  10,  10, 0.5, 0.5),\n",
    "    3: ProblemConfiguration(prob3_subset, 100,  10000, 1, 50,  10,  10, 0.5, 0.5),\n",
    "    4: ProblemConfiguration(prob4_subset, 100,  10000, 1, 50,  10,  10, 0.5, 0.5),\n",
    "    5: ProblemConfiguration(prob5_subset, 100,  10000, 1, 50,  10,  10, 0.5, 0.5),\n",
    "    6: ProblemConfiguration(prob6_subset, 100,  10000, 1, 50,  10,  10, 0.5, 0.5),\n",
    "    7: ProblemConfiguration(prob7_subset, 100,  10000, 1, 50,  10,  10, 0.5, 0.5),\n",
    "    8: ProblemConfiguration(prob8_subset, 100,  10000, 1, 50,  10,  10, 0.5, 0.5),\n",
    "}\n",
    "config = problem_configs[selected]\n"
   ]
  },
  {
   "cell_type": "markdown",
   "metadata": {},
   "source": [
    "Loading data there is the possibility to shrink the dataset maintaining the distribution to speedup computation if needed"
   ]
  },
  {
   "cell_type": "code",
   "execution_count": 34,
   "metadata": {},
   "outputs": [],
   "source": [
    "problem = np.load(f'../data/problem_{selected}.npz')\n",
    "x = problem['x']\n",
    "y = problem['y']\n",
    "\n",
    "# Basic data checks\n",
    "if not np.all(np.isfinite(x)) or not np.all(np.isfinite(y)):\n",
    "    raise ValueError('Non-finite values detected in data')\n",
    "\n",
    "step = config.resize\n",
    "truth = y[::step]\n",
    "x = x[:, ::step]\n",
    "\n",
    "gp = gxgp.DagGP(\n",
    "    operators=config.operators,\n",
    "    variables=x.shape[0],\n",
    "    constants=np.linspace(-5, 5, 500),\n",
    ")"
   ]
  },
  {
   "cell_type": "markdown",
   "metadata": {},
   "source": [
    "fitness funtion is very simple and just adds a penalty on the mse based on expression lenght to avoid expressions to became enormous"
   ]
  },
  {
   "cell_type": "code",
   "execution_count": 35,
   "metadata": {},
   "outputs": [],
   "source": [
    "def fitness(individual):\n",
    "    return (-gp.mse(individual, x, truth, variable_names=[f'x{i}' for i in range(x.shape[0])])*(1 + len(individual)/2) , len(individual))\n",
    "\n",
    "def tournament_selection(population):\n",
    "    tournament = np.random.choice(population, config.tournamentSize)\n",
    "    return max(tournament, key=lambda x: x.fitness)\n"
   ]
  },
  {
   "cell_type": "markdown",
   "metadata": {},
   "source": [
    "# Eolutionary loop"
   ]
  },
  {
   "cell_type": "code",
   "execution_count": 36,
   "metadata": {},
   "outputs": [
    {
     "data": {
      "application/vnd.jupyter.widget-view+json": {
       "model_id": "879a401b103c47938f674ba4f6bf33d8",
       "version_major": 2,
       "version_minor": 0
      },
      "text/plain": [
       "  0%|          | 0/100 [00:00<?, ?it/s]"
      ]
     },
     "metadata": {},
     "output_type": "display_data"
    },
    {
     "name": "stdout",
     "output_type": "stream",
     "text": [
      "Generation 0, best fitness: (np.float64(-0.04842062409719301), 11), effective MSE: 0.00744932678418354, patience: 0\n",
      "Generation 100, best fitness: (np.float64(-1.4251881588465546e-33), 2), effective MSE: 7.125940794232773e-34, patience: 98\n",
      "Generation 200, best fitness: (np.float64(-1.4251881588465546e-33), 2), effective MSE: 7.125940794232773e-34, patience: 198\n",
      "Generation 300, best fitness: (np.float64(-1.4251881588465546e-33), 2), effective MSE: 7.125940794232773e-34, patience: 298\n",
      "Generation 400, best fitness: (np.float64(-1.4251881588465546e-33), 2), effective MSE: 7.125940794232773e-34, patience: 398\n",
      "Generation 500, best fitness: (np.float64(-1.4251881588465546e-33), 2), effective MSE: 7.125940794232773e-34, patience: 498\n",
      "Generation 502, best fitness: (np.float64(-1.4251881588465546e-33), 2), effective MSE: 7.125940794232773e-34, patience: 500\n",
      "Early stopping at generation 502 due to convergence\n",
      "Evolution completed. Best fitness: (np.float64(-1.4251881588465546e-33), 2), Final MSE: 7.125940794232773e-34\n"
     ]
    }
   ],
   "source": [
    "population = [gp.create_individual(config.individualSize) for _ in tqdm(range(config.population))]\n",
    "for i in population:\n",
    "    i.fitness = fitness(i)\n",
    "\n",
    "patience = 500\n",
    "best_fitness = float('-inf')\n",
    "patience_counter = 0\n",
    "last_best_individual = None\n",
    "fitness_history = []\n",
    "mse_history = []\n",
    "\n",
    "\n",
    "MAX_NODES = 100\n",
    "\n",
    "def shrink(ind):\n",
    "    if len(ind) > MAX_NODES:\n",
    "        ind = shrink_mutation(ind, x.shape[0], target_fraction=0.25)\n",
    "    return ind\n",
    "\n",
    "iterator = range(config.newGenerations)\n",
    "\n",
    "for generation in iterator:\n",
    "    offspring = []\n",
    "    for _ in range(config.offspringSize):\n",
    "        parent1 = tournament_selection(population)\n",
    "        \n",
    "        if np.random.rand() < config.crossoverRate:\n",
    "            parent2 = tournament_selection(population)\n",
    "            child = xover_swap_subtree(parent1, parent2)\n",
    "            child = shrink(child)\n",
    "            offspring.append(child)\n",
    "        else:\n",
    "            adaptive_rate = config.mutationRate * (generation / config.newGenerations)\n",
    "            if gxgp_random.random() < adaptive_rate:\n",
    "                child = random_mutation(parent1, x.shape[0], config.operators, probability=0.1)\n",
    "            else:\n",
    "                child = subtree_mutation(parent1, x.shape[0], config.operators)\n",
    "            \n",
    "            child = shrink(child)\n",
    "            offspring.append(child)\n",
    "    \n",
    "    for i in offspring:\n",
    "        i.fitness = fitness(i)\n",
    "        \n",
    "    population = sorted(population + offspring, key=lambda x: x.fitness, reverse=True)[:config.population]\n",
    "    current_best = population[0].fitness[0]\n",
    "    current_best_individual = population[0]\n",
    "    fitness_history.append(population[0].fitness)\n",
    "\n",
    "    current_mse = gp.mse(current_best_individual, x, truth, variable_names=[f'x{i}' for i in range(x.shape[0])])\n",
    "    mse_history.append(current_mse)\n",
    "    \n",
    "    if current_best > best_fitness:\n",
    "        best_fitness = current_best\n",
    "        patience_counter = 0\n",
    "    else:\n",
    "        patience_counter += 1\n",
    "\n",
    "\n",
    "    if (generation % 100 == 0) or patience_counter >= patience:\n",
    "        print(f\"Generation {generation}, best fitness: {population[0].fitness}, effective MSE: {current_mse:}, patience: {patience_counter}\")\n",
    "    if patience_counter >= patience:\n",
    "        print(f\"Early stopping at generation {generation} due to convergence\")\n",
    "        break\n",
    "\n",
    "\n",
    "final_mse = mse_history[-1] if mse_history else gp.mse(population[0], x, truth, variable_names=[f'x{i}' for i in range(x.shape[0])])\n",
    "print(f\"Evolution completed. Best fitness: {population[0].fitness}, Final MSE: {final_mse}\")"
   ]
  },
  {
   "cell_type": "code",
   "execution_count": 37,
   "metadata": {},
   "outputs": [
    {
     "name": "stdout",
     "output_type": "stream",
     "text": [
      "Max fitness value reached at epoch 2, Max fitness value: (np.float64(-1.4251881588465546e-33), 2)\n",
      "np.sin(x[0])\n"
     ]
    }
   ],
   "source": [
    "index, max_value = fitness_history.index(max(fitness_history)), max(fitness_history)\n",
    "print(f\"Max fitness value reached at epoch {index}, Max fitness value: {max_value}\")\n",
    "\n",
    "print(translate_expression(population[0].long_name))"
   ]
  },
  {
   "cell_type": "code",
   "execution_count": 38,
   "metadata": {},
   "outputs": [
    {
     "data": {
      "image/png": "[encoded data removed]",
      "text/plain": [
       "<Figure size 600x400 with 1 Axes>"
      ]
     },
     "metadata": {},
     "output_type": "display_data"
    },
    {
     "data": {
      "image/png": "[encoded data removed]",
      "text/plain": [
       "<Figure size 600x400 with 1 Axes>"
      ]
     },
     "metadata": {},
     "output_type": "display_data"
    },
    {
     "data": {
      "image/png": "[encoded data removed]",
      "text/plain": [
       "<Figure size 640x480 with 1 Axes>"
      ]
     },
     "metadata": {},
     "output_type": "display_data"
    }
   ],
   "source": [
    "import os\n",
    "import numpy as np\n",
    "import matplotlib.pyplot as plt\n",
    "from mpl_toolkits.mplot3d import Axes3D\n",
    "\n",
    "directory = f'../results/problem{selected}'\n",
    "os.makedirs(directory, exist_ok=True)\n",
    "\n",
    "loss_history = mse_history if 'mse_history' in globals() and len(mse_history) > 0 else [-h[0] for h in fitness_history]\n",
    "\n",
    "n_vars = x.shape[0]\n",
    "fig_rows = (n_vars + 1) // 2\n",
    "fig_cols = min(n_vars, 2)\n",
    "\n",
    "fig, axes = plt.subplots(fig_rows, fig_cols, figsize=(fig_cols * 6, fig_rows * 4))\n",
    "axes = axes.flatten() if n_vars > 1 else [axes]\n",
    "\n",
    "y_min, y_max = min(truth), max(truth)\n",
    "\n",
    "for i in range(n_vars):\n",
    "    ax = axes[i]\n",
    "    x_min, x_max = min(x[i]), max(x[i])\n",
    "    interval = np.linspace(x_min, x_max, 2000)\n",
    "\n",
    "    predicted = [population[0](**{f'x{k}': interval[j] if k == i else 0 for k in range(n_vars)}) for j in range(len(interval))]\n",
    "\n",
    "    ax.scatter(x[i], truth, s=6, c='r', alpha=0.6, label='Ground Truth')\n",
    "    ax.plot(interval, predicted, c='b', linewidth=1.5, label='Predicted')\n",
    "    ax.set_title(f'Profile for x{i}')\n",
    "    ax.set_xlabel(f'x{i}')\n",
    "    ax.set_ylabel('y')\n",
    "    ax.set_ylim(2*y_min, 2*y_max)\n",
    "    ax.grid(True, alpha=0.3)\n",
    "    ax.legend()\n",
    "\n",
    "plt.tight_layout()\n",
    "plt.savefig(f'{directory}/all_profiles.png', dpi=150, bbox_inches='tight')\n",
    "plt.show()\n",
    "\n",
    "plt.figure(figsize=(6,4))\n",
    "plt.plot(loss_history, label='Loss (MSE)')\n",
    "plt.title('Best Loss over Generations')\n",
    "plt.xlabel('Generation')\n",
    "plt.ylabel('Loss (MSE)')\n",
    "plt.yscale('log')\n",
    "plt.grid(True, alpha=0.3)\n",
    "plt.legend()\n",
    "plt.savefig(f'{directory}/loss_over_generations.png', dpi=150, bbox_inches='tight')\n",
    "plt.show()\n",
    "\n",
    "population[0].draw()\n",
    "plt.title('Best Individual Tree')\n",
    "plt.savefig(f'{directory}/formula.png', dpi=150, bbox_inches='tight')\n",
    "\n",
    "if n_vars == 2:\n",
    "    fig = plt.figure(figsize=(7,6))\n",
    "    ax = fig.add_subplot(111, projection='3d')\n",
    "    x1, x2 = x[0], x[1]\n",
    "    predicted = [population[0](**{'x0': x1[j], 'x1': x2[j]}) for j in range(len(x1))]\n",
    "\n",
    "    ax.scatter(x1, x2, truth, c='r', marker='o', s=3, alpha=0.6, label='Ground Truth')\n",
    "    ax.plot_trisurf(x1, x2, predicted, color='b', alpha=0.4)\n",
    "\n",
    "    ax.set_xlabel('x0')\n",
    "    ax.set_ylabel('x1')\n",
    "    ax.set_zlabel('y')\n",
    "    plt.title('3D Prediction Surface')\n",
    "    plt.savefig(f'{directory}/surface_3d.png', dpi=150, bbox_inches='tight')\n",
    "    plt.show()"
   ]
  }
 ],
 "metadata": {
  "kernelspec": {
   "display_name": "CI2024",
   "language": "python",
   "name": "python3"
  },
  "language_info": {
   "codemirror_mode": {
    "name": "ipython",
    "version": 3
   },
   "file_extension": ".py",
   "mimetype": "text/x-python",
   "name": "python",
   "nbconvert_exporter": "python",
   "pygments_lexer": "ipython3",
   "version": "3.12.6"
  }
 },
 "nbformat": 4,
 "nbformat_minor": 2
}
